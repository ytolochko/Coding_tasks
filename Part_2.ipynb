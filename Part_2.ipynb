{
 "cells": [
  {
   "cell_type": "code",
   "execution_count": 1,
   "metadata": {},
   "outputs": [],
   "source": [
    "import pandas as pd \n",
    "import numpy as np \n",
    "import re\n",
    "import nltk \n",
    "from sklearn.feature_extraction.text import TfidfVectorizer\n",
    "from sklearn.model_selection import train_test_split\n",
    "from sklearn.ensemble import RandomForestClassifier\n",
    "from nltk.corpus import stopwords\n",
    "import matplotlib.pyplot as plt\n",
    "from collections import defaultdict"
   ]
  },
  {
   "cell_type": "code",
   "execution_count": 2,
   "metadata": {},
   "outputs": [
    {
     "name": "stderr",
     "output_type": "stream",
     "text": [
      "b'Skipping line 8836: expected 4 fields, saw 5\\n'\n",
      "b'Skipping line 535882: expected 4 fields, saw 7\\n'\n",
      "C:\\Users\\ytolo\\Anaconda3\\lib\\site-packages\\numpy\\lib\\arraysetops.py:522: FutureWarning: elementwise comparison failed; returning scalar instead, but in the future will perform elementwise comparison\n",
      "  mask |= (ar1 == a)\n",
      "[nltk_data] Downloading package stopwords to\n",
      "[nltk_data]     C:\\Users\\ytolo\\AppData\\Roaming\\nltk_data...\n",
      "[nltk_data]   Package stopwords is already up-to-date!\n"
     ]
    }
   ],
   "source": [
    "#### Setting up and preprocessing \n",
    "\n",
    "# read data\n",
    "data = pd.read_csv('D:\\\\Sentiment Analysis Dataset.csv', error_bad_lines=False, index_col=0)\n",
    "\n",
    "# Download english stopwords\n",
    "nltk.download('stopwords')\n",
    "stopwords = stopwords.words('english')\n",
    "\n",
    "# convert all to lowercase\n",
    "data['SentimentText'] = data['SentimentText'].apply(lambda x: x.lower())\n",
    "# remove special characters\n",
    "data['SentimentText'] = data['SentimentText'].apply(lambda x: re.sub(r'\\W', ' ', x))\n",
    "# remove single characters\n",
    "data['SentimentText'] = data['SentimentText'].apply(lambda x: re.sub(r'\\s+[a-zA-Z]\\s+', ' ', x))\n",
    "# remove single characters from the start\n",
    "data['SentimentText'] = data['SentimentText'].apply(lambda x: re.sub(r'\\^[a-zA-Z]\\s+', ' ', x))\n",
    "# substitute multiple spaces with one space\n",
    "data['SentimentText'] = data['SentimentText'].apply(lambda x: re.sub(r'\\s+', ' ', x, flags=re.I))\n"
   ]
  },
  {
   "cell_type": "code",
   "execution_count": 9,
   "metadata": {},
   "outputs": [],
   "source": [
    "##### Task 1. Top 10 Positive and negative words.\n",
    "# Positive and negative words are defined as \"words more frequent with positive and negative labels respectively\"\n",
    "\n",
    "positive_words = defaultdict(int)\n",
    "negative_words = defaultdict(int)\n",
    "\n",
    "positive = data[data['Sentiment'] == 1]['SentimentText']\n",
    "negative = data[data['Sentiment'] == 0]['SentimentText']\n",
    "\n",
    "for tweet in positive:\n",
    "    for word in tweet.split():\n",
    "        if (len(word) > 1) and (word not in stopwords):\n",
    "            positive_words[word] += 1\n",
    "\n",
    "for tweet in negative:\n",
    "    for word in tweet.split():\n",
    "        if (len(word) > 1) and (word not in stopwords):\n",
    "            negative_words[word] += 1\n",
    "    \n",
    "\n",
    "sorted_positive = sorted(positive_words.items(), key=lambda kv: -kv[1])\n",
    "sorted_negative = sorted(negative_words.items(), key=lambda kv: -kv[1])"
   ]
  },
  {
   "cell_type": "code",
   "execution_count": 8,
   "metadata": {},
   "outputs": [
    {
     "name": "stdout",
     "output_type": "stream",
     "text": [
      "Top 10 positive words are\n",
      "('good', 60795)\n",
      "('love', 47573)\n",
      "('http', 46223)\n",
      "('day', 45951)\n",
      "('quot', 45471)\n",
      "('like', 37451)\n",
      "('get', 36181)\n",
      "('lol', 36000)\n",
      "('com', 34833)\n",
      "('thanks', 34434)\n",
      "________________\n",
      "Top 10 negative words are\n",
      "('get', 45435)\n",
      "('go', 45115)\n",
      "('work', 44065)\n",
      "('like', 40882)\n",
      "('day', 39498)\n",
      "('today', 37859)\n",
      "('going', 33416)\n",
      "('got', 33031)\n",
      "('back', 32602)\n",
      "('really', 31172)\n"
     ]
    }
   ],
   "source": [
    "print('Top 10 positive words are')\n",
    "for word in sorted_positive[:10]:\n",
    "    print(word)\n",
    "\n",
    "print('________________')\n",
    "    \n",
    "print('Top 10 negative words are')\n",
    "for word in sorted_negative[:10]:\n",
    "    print(word)"
   ]
  },
  {
   "cell_type": "code",
   "execution_count": null,
   "metadata": {},
   "outputs": [],
   "source": []
  },
  {
   "cell_type": "code",
   "execution_count": 12,
   "metadata": {},
   "outputs": [
    {
     "name": "stderr",
     "output_type": "stream",
     "text": [
      "C:\\Users\\ytolo\\Anaconda3\\lib\\site-packages\\pandas\\plotting\\_core.py:998: UserWarning: Attempted to set non-positive left xlim on a log-scaled axis.\n",
      "Invalid limit will be ignored.\n",
      "  ax.set_xlim(left, right)\n"
     ]
    },
    {
     "data": {
      "text/plain": [
       "Text(0, 0.5, 'Frequency')"
      ]
     },
     "execution_count": 12,
     "metadata": {},
     "output_type": "execute_result"
    },
    {
     "data": {
      "image/png": "[encoded data removed]",
      "text/plain": [
       "<Figure size 432x288 with 1 Axes>"
      ]
     },
     "metadata": {
      "needs_background": "light"
     },
     "output_type": "display_data"
    },
    {
     "data": {
      "image/png": "[encoded data removed]",
      "text/plain": [
       "<Figure size 432x288 with 1 Axes>"
      ]
     },
     "metadata": {
      "needs_background": "light"
     },
     "output_type": "display_data"
    }
   ],
   "source": [
    "##### Task 2. Zipf's law\n",
    "all_tweets = data['SentimentText']\n",
    "all_word_freqs = defaultdict(int)\n",
    "for tweet in all_tweets:\n",
    "    for word in tweet.split():\n",
    "        if (len(word) > 1) and (word not in stopwords):\n",
    "            all_word_freqs[word] += 1\n",
    "\n",
    "sorted_freqs = sorted(all_word_freqs.items(), key=lambda kv: -kv[1])\n",
    "\n",
    "# Select top 1000 words and pack them into a dataframe indexed by their frequency\n",
    "id_freq = {i: sorted_freqs[i] for i in range(1000)}\n",
    "freq_df = pd.DataFrame.from_dict(id_freq, orient = 'index', columns=['word', 'freq'])\n",
    "freq_df = freq_df.reset_index()\n",
    "\n",
    "ax = freq_df.plot(x = 'index', y = 'freq', title='Frequency of words by their rank (Zipfs Law) ')\n",
    "ax.set_xlabel(\"Rank\")\n",
    "ax.set_ylabel(\"Frequency\")\n",
    "\n",
    "ax = freq_df.plot(x = 'index', y = 'freq', logx = True, logy = True, title='Frequency of words by their rank (Zipfs Law) with log scales')\n",
    "ax.set_xlabel(\"Rank\")\n",
    "ax.set_ylabel(\"Frequency\")\n"
   ]
  },
  {
   "cell_type": "markdown",
   "metadata": {},
   "source": [
    "# Task 3. Write a simple classifier to predict sentiment"
   ]
  },
  {
   "cell_type": "markdown",
   "metadata": {},
   "source": [
    "## My approach:\n",
    "1. Sample 1% of the data, because otherwise it takes too much memory and takes too long to fit the model. I am fully aware of the ridiculousness of using only 1% of the available data, but this is a proof-of-concept excersice. \n",
    "2. The main idea for this simple classifier is to use term frequency–inverse document frequency statistic for extracting features out of raw words. \n",
    "    * tf-idf is a \"classsical\" approach to NLP, similar to a bag-of-words model. The big difference is that the tf–idf value of a word is directly proportional to the number of times a word appears in a document (tweet) and is inversely proportional to the number of documents in the corpus (dataset) that contain the word, which adjusts for the fact that some words are generally more frequent than others. \n",
    "    * Therefore we are able to use information about word's relative frequency in a tweet while taking into account that a word might be frequent globally. \n",
    "3. Using tf–idf values of tweets as features, we train a random forest classifier to predict sentiment of a tweet. "
   ]
  },
  {
   "cell_type": "code",
   "execution_count": 11,
   "metadata": {},
   "outputs": [
    {
     "data": {
      "text/plain": [
       "0.7018581081081081"
      ]
     },
     "execution_count": 11,
     "metadata": {},
     "output_type": "execute_result"
    }
   ],
   "source": [
    "##### Task 3. Simple classifier to predict sentiment\n",
    "\n",
    "# Sample 1% of data to have enough memory and for the runtime to be on the order of minutes and not hours. \n",
    "# Please change according to your machine specs. \n",
    "data = data.sample(frac = 0.01)\n",
    "features = data['SentimentText'].values\n",
    "targets = data['Sentiment'].values\n",
    "\n",
    "# Create a tf–idf out of the \"raw\" tweets\n",
    "vectorizer = TfidfVectorizer (max_features=2500, min_df=7, max_df=0.8, stop_words=stopwords)\n",
    "processed_features = vectorizer.fit_transform(features).toarray()\n",
    "\n",
    "# Split the data into test and train\n",
    "X_train, X_test, y_train, y_test = train_test_split(processed_features, targets, test_size=0.3, random_state=0)\n",
    "\n",
    "# Fit the RF classifier\n",
    "text_classifier = RandomForestClassifier(n_estimators=200, random_state=0)\n",
    "text_classifier.fit(X_train, y_train)\n",
    "\n",
    "# Check how well it performs on test data\n",
    "text_classifier.score(X_test, y_test)"
   ]
  },
  {
   "cell_type": "markdown",
   "metadata": {},
   "source": [
    "# 70% Accuracy on 1% of the data. \n",
    "## What can be done to the current apporach (RF classifier) improve the results?\n",
    "1. Have more RAM and a better CPU to train on the full dataset:)\n",
    "2. Spend more time on figuring out what words are to be filtered out. Currently we filter out 1-letter words and words which are found in the stopwords list provided by nltk.\n",
    "3. Apply Stemming and Lemmatization techniques to raw tweets.\n",
    "\n",
    "### Alternative approach\n",
    "1. Switch to word embeddings (e.g. word2vec) instead of tf-idf to featurize the tweets. Word embeddings capture much more information and allow for comparisons between word's semantic loading, which is not available for tf-idf approach, as it only works with a word's frequency of occurence in a document/corpus.\n",
    "2. Switch to a deep learning based classifier. A bidrectional RNN would be able to capture the length relationship that tf-idf is not able to capture. E.g. a sentence \"this was not a very well made and thought through movie\" would likely be predicted as positive by tf-idf based classifier because it can't model the sentence flow (it's a bag-of-words-like model in the end of the day). An RNN-based classifier would have no problem with classifiyng this as a negative sentiment exactly because it can model these sequence-based relationships."
   ]
  },
  {
   "cell_type": "code",
   "execution_count": null,
   "metadata": {},
   "outputs": [],
   "source": []
  }
 ],
 "metadata": {
  "kernelspec": {
   "display_name": "Python 3",
   "language": "python",
   "name": "python3"
  },
  "language_info": {
   "codemirror_mode": {
    "name": "ipython",
    "version": 3
   },
   "file_extension": ".py",
   "mimetype": "text/x-python",
   "name": "python",
   "nbconvert_exporter": "python",
   "pygments_lexer": "ipython3",
   "version": "3.6.8"
  }
 },
 "nbformat": 4,
 "nbformat_minor": 2
}
